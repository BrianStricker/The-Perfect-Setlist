{
 "cells": [
  {
   "cell_type": "markdown",
   "id": "771a381e",
   "metadata": {},
   "source": [
    "# **DATA DICTIONARY**"
   ]
  },
  {
   "cell_type": "markdown",
   "id": "d7cc1c04",
   "metadata": {},
   "source": [
    "***\n",
    "**DEFINITIONS (Column Names)**\n",
    "\n",
    "\n",
    "**`number`**`: number entry where the track is located in final combination`\n",
    "\n",
    "**track**: Name of the song. *In the top 20 CSV this was originally titled 'name' before being changed to 'track'.\n",
    "\n",
    "**`artist`**`: Name of the artist.`\n",
    "\n",
    "**danceability**: Danceability describes how suitable a track is for dancing based on a combination of musical elements including tempo, rhythm stability, beat strength, and overall regularity. A value of 0.0 is least danceable and 1.0 is most danceable.\n",
    "\n",
    "**`energy`**`: Energy is a measure from 0.0 to 1.0 and represents a perceptual measure of intensity and activity.\n",
    "key: The key in which the track was recorded. Integers map to pitches using standard Pitch Class notation. \n",
    "(0 = C,\t1 = C#/D,    2 = D,    3 = D#/Eb,    4 = E,    5 = F,    6 = F#/Gb,    7 = G,    8 = G#/Ab,    9 = A,    10 =A#/Bb,    11 = B)`\n",
    "\n",
    "**loudness**: The overall loudness of a track in decibels (dB). Loudness values are averaged across the entire track and are useful for comparing relative loudness of tracks. Loudness is the quality of a sound that is the primary psychological correlate of physical strength (amplitude). Values typically range between -60 and 0 db.\n",
    "\n",
    "**`mode`**`: Mode indicates the modality (major or minor) of a track, the type of scale from which its melodic content is derived. Major is represented by 1 and minor is 0.`\n",
    "\n",
    "**speechiness**: This detects the presence of spoken words in a track. The more speech-like the track (e.g., talk show, audio book, poetry), the closer the value will be to 1.0. Values above 0.66 describe tracks that are probably made entirely of spoken words. Values between 0.33 and 0.66 describe tracks that may contain both music and speech, either in sections or layered, including such cases as rap music. Values below 0.33 most likely represent music and other non-speech-like tracks.\n",
    "\n",
    "**`acousticness`**`: How likely a track was created by acoustic means such as voice and acoustic instruments. It is measured from 0.0 to 1.0 of whether the track is acoustic. 1.0 represents high confidence the song is acoustic.`\n",
    "\n",
    "**instrumentalness**: Detects whether or not a track contains singing or speech. The closer this value is to 1.0, the greater likelihood the track contains no vocal content. Values above 0.5 are intended to represent instrumental tracks, but confidence is higher as the value approaches 1.0. \"Ooh\" and \"aah\" sounds are treated as instrumental in this context.\n",
    "\n",
    "**`liveness`**: `Gauges how present an audience is in the recording. Higher liveness values represent an increased probability that the track was performed live. A value above 0.8 provides strong likelihood that the track is live.\n",
    "valence: A measure from 0.0 to 1.0 describing the musical positiveness conveyed by a track. Tracks with high valence sound more positive or pleasant while tracks with low valence sound more negative, angry or melancholy.`\n",
    "\n",
    "**tempo**: The overall estimated tempo of a track in beats per minute (BPM). In musical terminology, tempo is the speed or pace of a given piece and derives directly from the average beat duration.\n",
    "\n",
    "**`min:sec`**`: The time length of the song. This waas originally in milliseconds and was called duration_ms.`\n",
    "\n",
    "**time_signature**: The time signature tells us how many beats are in each measure.\n",
    "\n",
    "**`rank`**`: This is the number the song was ranked in its specific decade`\n",
    "\n",
    "**decade**: This is the decade in which the song was released.\n",
    "\n",
    " \n",
    "***"
   ]
  },
  {
   "cell_type": "markdown",
   "id": "20069f5d",
   "metadata": {},
   "source": [
    "***\n",
    "**DEFINITIONS (Column Names We Will Be Removing)**\n",
    "\n",
    "**target**: The target variables for a track were either ‘1’ or ‘0’.  '1' implies that this song has featured in the weekly list (Issued by Billboards) of Hot-100 tracks in that decade at least once and is therefore a 'hit'. '0' implied the song was unlistenable, at least for our needs. This variable will inevitably be removed once we no longer need it. (We will be removing)\n",
    "\n",
    "**`uri`**`: The resource identifier for the track.`\n",
    "\n",
    "**chorus_hit**: This is a best estimate of when the chorus would start for the track. It’s the timestamp of the start of the third section of the track. \n",
    "\n",
    "**`sections`**`: The number of sections the particular track has.`\n",
    "\n",
    "***"
   ]
  },
  {
   "cell_type": "markdown",
   "id": "cbf114ac",
   "metadata": {},
   "source": [
    "***\n",
    "**OTHER DEFINITIONS**\n",
    "\n",
    "**capo**: a clamp fastened across all the strings of a fretted musical instrument to raise their tuning by a chosen amount.\n",
    "\n",
    "**`neck`**`: The neck is the part of the guitar that projects from the main body and is the base of the fingerboard, where the fingers are placed to stop the strings at different pitches.`\n",
    "\n",
    "**effects/effects pedals**: electronic device, operated by hand or foot, that enhances, distorts, or otherwise alters electrical signals that are transmitted through it and that originate with a musical instrument. Effects pedals are used to change the sound of the instrument, and there are numerous types. Most are typically used in setups with electric or electronic instruments, such as the electric guitar, the electric bass, and the electronic keyboard, though they can be connected to any instrument supplied with a device that converts vibrations into electrical signals, such as a microphone.\n",
    "\n",
    "**`acoustic/electric guitar`**: `is an acoustic guitar fitted with a microphone or a magnetic or piezoelectric pickup. They are used in a variety of music genres where the sound of an acoustic guitar is desired but more volume is required, especially during live performances. These features also allow you to give the guitar 'effects' such as 'reverb', which is an echo effect, or 'chorus'...a modulation effect that duplicates the signal and slightly changes the pitch giving the allusion of multiple guitars playing at once.`\n",
    "\n",
    "**chartable**: the song was ranked top 20 in one of the decade billboard charts\n",
    "***"
   ]
  },
  {
   "cell_type": "code",
   "execution_count": null,
   "id": "c6dfe0a9",
   "metadata": {},
   "outputs": [],
   "source": []
  }
 ],
 "metadata": {
  "kernelspec": {
   "display_name": "Python 3 (ipykernel)",
   "language": "python",
   "name": "python3"
  },
  "language_info": {
   "codemirror_mode": {
    "name": "ipython",
    "version": 3
   },
   "file_extension": ".py",
   "mimetype": "text/x-python",
   "name": "python",
   "nbconvert_exporter": "python",
   "pygments_lexer": "ipython3",
   "version": "3.10.9"
  }
 },
 "nbformat": 4,
 "nbformat_minor": 5
}
